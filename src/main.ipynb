{
 "cells": [
  {
   "cell_type": "markdown",
   "metadata": {},
   "source": [
    "# Project | Machine Learning Models Evaluation"
   ]
  },
  {
   "cell_type": "markdown",
   "metadata": {},
   "source": [
    "## <font color='DarkBlue'>I. <ins>Loading the Dataset</ins>: <font color='blue'></font>"
   ]
  },
  {
   "cell_type": "markdown",
   "metadata": {},
   "source": [
    "### <font color='MediumBlue'>1 - <ins> Importing libraries</ins>: <font color='violet'></font>"
   ]
  },
  {
   "cell_type": "code",
   "execution_count": 1,
   "metadata": {},
   "outputs": [],
   "source": [
    "import julestools as jt\n",
    "\n",
    "import pandas as pd\n",
    "import numpy as np\n",
    "\n",
    "import matplotlib.pyplot as plt\n",
    "import seaborn as sns\n",
    "import missingno as msno\n",
    "from plotly import express as px\n",
    "\n",
    "from sklearn.linear_model import LogisticRegression\n",
    "from sklearn.neighbors import KNeighborsClassifier\n",
    "from sklearn.tree import DecisionTreeClassifier\n",
    "from sklearn.ensemble  import RandomForestClassifier\n",
    "\n",
    "from sklearn import svm\n",
    "from sklearn.model_selection import train_test_split, cross_val_score, GridSearchCV\n",
    "from sklearn.preprocessing import StandardScaler, MinMaxScaler, OneHotEncoder, OrdinalEncoder\n",
    "from sklearn.metrics import confusion_matrix, precision_score, recall_score, f1_score, ConfusionMatrixDisplay\n",
    "from sklearn.utils import resample\n",
    "\n",
    "import imblearn\n",
    "from imblearn.over_sampling import SMOTE"
   ]
  },
  {
   "cell_type": "markdown",
   "metadata": {},
   "source": [
    "### <font color='MediumBlue'>2 - <ins>Dataset source</ins>: <font color='violet'></font>"
   ]
  },
  {
   "cell_type": "markdown",
   "metadata": {},
   "source": [
    "<ins><strong>Source: </strong></ins>"
   ]
  },
  {
   "cell_type": "code",
   "execution_count": 2,
   "metadata": {},
   "outputs": [],
   "source": [
    "source = '../data/data.csv'"
   ]
  },
  {
   "cell_type": "markdown",
   "metadata": {},
   "source": [
    "### <font color='MediumBlue'>3 - <ins>  Loading datasets into DataFrames</ins>: <font color='violet'></font>"
   ]
  },
  {
   "cell_type": "code",
   "execution_count": 3,
   "metadata": {},
   "outputs": [],
   "source": [
    "df = pd.read_csv(source)"
   ]
  },
  {
   "cell_type": "markdown",
   "metadata": {},
   "source": [
    "##  <font color='DarkBlue'>II. <ins>Exploring the Dataset</ins>: <font color='blue'></font>"
   ]
  },
  {
   "cell_type": "markdown",
   "metadata": {},
   "source": [
    "### <font color='MediumBlue'>1 - <ins> Datasets Overview</ins>: <font color='violet'></font>"
   ]
  },
  {
   "cell_type": "markdown",
   "metadata": {},
   "source": [
    "#### <font color='CornflowerBlue'>a) Displaying number of rows and number of columns: </font>"
   ]
  },
  {
   "cell_type": "code",
   "execution_count": 4,
   "metadata": {},
   "outputs": [
    {
     "name": "stdout",
     "output_type": "stream",
     "text": [
      "6819 rows, 96 columns\n"
     ]
    }
   ],
   "source": [
    "print(f\"{df.shape[0]} rows, {df.shape[1]} columns\")"
   ]
  },
  {
   "cell_type": "markdown",
   "metadata": {},
   "source": [
    "#### <font color='CornflowerBlue'>b) Glancing at the datasets: </font>"
   ]
  },
  {
   "cell_type": "markdown",
   "metadata": {},
   "source": [
    "<ins><strong>What the dataset looks like ? </strong></ins>"
   ]
  },
  {
   "cell_type": "code",
   "execution_count": 5,
   "metadata": {},
   "outputs": [
    {
     "data": {
      "text/html": [
       "<div>\n",
       "<style scoped>\n",
       "    .dataframe tbody tr th:only-of-type {\n",
       "        vertical-align: middle;\n",
       "    }\n",
       "\n",
       "    .dataframe tbody tr th {\n",
       "        vertical-align: top;\n",
       "    }\n",
       "\n",
       "    .dataframe thead th {\n",
       "        text-align: right;\n",
       "    }\n",
       "</style>\n",
       "<table border=\"1\" class=\"dataframe\">\n",
       "  <thead>\n",
       "    <tr style=\"text-align: right;\">\n",
       "      <th></th>\n",
       "      <th>Bankrupt?</th>\n",
       "      <th>ROA(C) before interest and depreciation before interest</th>\n",
       "      <th>ROA(A) before interest and % after tax</th>\n",
       "      <th>ROA(B) before interest and depreciation after tax</th>\n",
       "      <th>Operating Gross Margin</th>\n",
       "      <th>Realized Sales Gross Margin</th>\n",
       "      <th>Operating Profit Rate</th>\n",
       "      <th>Pre-tax net Interest Rate</th>\n",
       "      <th>After-tax net Interest Rate</th>\n",
       "      <th>Non-industry income and expenditure/revenue</th>\n",
       "      <th>...</th>\n",
       "      <th>Net Income to Total Assets</th>\n",
       "      <th>Total assets to GNP price</th>\n",
       "      <th>No-credit Interval</th>\n",
       "      <th>Gross Profit to Sales</th>\n",
       "      <th>Net Income to Stockholder's Equity</th>\n",
       "      <th>Liability to Equity</th>\n",
       "      <th>Degree of Financial Leverage (DFL)</th>\n",
       "      <th>Interest Coverage Ratio (Interest expense to EBIT)</th>\n",
       "      <th>Net Income Flag</th>\n",
       "      <th>Equity to Liability</th>\n",
       "    </tr>\n",
       "  </thead>\n",
       "  <tbody>\n",
       "    <tr>\n",
       "      <th>0</th>\n",
       "      <td>1</td>\n",
       "      <td>0.370594</td>\n",
       "      <td>0.424389</td>\n",
       "      <td>0.40575</td>\n",
       "      <td>0.601457</td>\n",
       "      <td>0.601457</td>\n",
       "      <td>0.998969</td>\n",
       "      <td>0.796887</td>\n",
       "      <td>0.808809</td>\n",
       "      <td>0.302646</td>\n",
       "      <td>...</td>\n",
       "      <td>0.716845</td>\n",
       "      <td>0.009219</td>\n",
       "      <td>0.622879</td>\n",
       "      <td>0.601453</td>\n",
       "      <td>0.827890</td>\n",
       "      <td>0.290202</td>\n",
       "      <td>0.026601</td>\n",
       "      <td>0.564050</td>\n",
       "      <td>1</td>\n",
       "      <td>0.016469</td>\n",
       "    </tr>\n",
       "    <tr>\n",
       "      <th>1</th>\n",
       "      <td>1</td>\n",
       "      <td>0.464291</td>\n",
       "      <td>0.538214</td>\n",
       "      <td>0.51673</td>\n",
       "      <td>0.610235</td>\n",
       "      <td>0.610235</td>\n",
       "      <td>0.998946</td>\n",
       "      <td>0.797380</td>\n",
       "      <td>0.809301</td>\n",
       "      <td>0.303556</td>\n",
       "      <td>...</td>\n",
       "      <td>0.795297</td>\n",
       "      <td>0.008323</td>\n",
       "      <td>0.623652</td>\n",
       "      <td>0.610237</td>\n",
       "      <td>0.839969</td>\n",
       "      <td>0.283846</td>\n",
       "      <td>0.264577</td>\n",
       "      <td>0.570175</td>\n",
       "      <td>1</td>\n",
       "      <td>0.020794</td>\n",
       "    </tr>\n",
       "  </tbody>\n",
       "</table>\n",
       "<p>2 rows × 96 columns</p>\n",
       "</div>"
      ],
      "text/plain": [
       "   Bankrupt?   ROA(C) before interest and depreciation before interest  \\\n",
       "0          1                                           0.370594          \n",
       "1          1                                           0.464291          \n",
       "\n",
       "    ROA(A) before interest and % after tax  \\\n",
       "0                                 0.424389   \n",
       "1                                 0.538214   \n",
       "\n",
       "    ROA(B) before interest and depreciation after tax  \\\n",
       "0                                            0.40575    \n",
       "1                                            0.51673    \n",
       "\n",
       "    Operating Gross Margin   Realized Sales Gross Margin  \\\n",
       "0                 0.601457                      0.601457   \n",
       "1                 0.610235                      0.610235   \n",
       "\n",
       "    Operating Profit Rate   Pre-tax net Interest Rate  \\\n",
       "0                0.998969                    0.796887   \n",
       "1                0.998946                    0.797380   \n",
       "\n",
       "    After-tax net Interest Rate   Non-industry income and expenditure/revenue  \\\n",
       "0                      0.808809                                      0.302646   \n",
       "1                      0.809301                                      0.303556   \n",
       "\n",
       "   ...   Net Income to Total Assets   Total assets to GNP price  \\\n",
       "0  ...                     0.716845                    0.009219   \n",
       "1  ...                     0.795297                    0.008323   \n",
       "\n",
       "    No-credit Interval   Gross Profit to Sales  \\\n",
       "0             0.622879                0.601453   \n",
       "1             0.623652                0.610237   \n",
       "\n",
       "    Net Income to Stockholder's Equity   Liability to Equity  \\\n",
       "0                             0.827890              0.290202   \n",
       "1                             0.839969              0.283846   \n",
       "\n",
       "    Degree of Financial Leverage (DFL)  \\\n",
       "0                             0.026601   \n",
       "1                             0.264577   \n",
       "\n",
       "    Interest Coverage Ratio (Interest expense to EBIT)   Net Income Flag  \\\n",
       "0                                           0.564050                   1   \n",
       "1                                           0.570175                   1   \n",
       "\n",
       "    Equity to Liability  \n",
       "0              0.016469  \n",
       "1              0.020794  \n",
       "\n",
       "[2 rows x 96 columns]"
      ]
     },
     "execution_count": 5,
     "metadata": {},
     "output_type": "execute_result"
    }
   ],
   "source": [
    "df.head(2)"
   ]
  },
  {
   "cell_type": "markdown",
   "metadata": {},
   "source": [
    "<ins><strong>What are the data types ? </strong></ins>"
   ]
  },
  {
   "cell_type": "code",
   "execution_count": 10,
   "metadata": {},
   "outputs": [
    {
     "data": {
      "text/plain": [
       "Bankrupt?                                                     int64\n",
       " ROA(C) before interest and depreciation before interest    float64\n",
       " ROA(A) before interest and % after tax                     float64\n",
       " ROA(B) before interest and depreciation after tax          float64\n",
       " Operating Gross Margin                                     float64\n",
       "                                                             ...   \n",
       " Liability to Equity                                        float64\n",
       " Degree of Financial Leverage (DFL)                         float64\n",
       " Interest Coverage Ratio (Interest expense to EBIT)         float64\n",
       " Net Income Flag                                              int64\n",
       " Equity to Liability                                        float64\n",
       "Length: 96, dtype: object"
      ]
     },
     "execution_count": 10,
     "metadata": {},
     "output_type": "execute_result"
    }
   ],
   "source": [
    "df.dtypes"
   ]
  },
  {
   "cell_type": "markdown",
   "metadata": {},
   "source": [
    "## Cleaning Column Names"
   ]
  },
  {
   "cell_type": "markdown",
   "metadata": {},
   "source": [
    "<strong><em>Stripping, renaming in lower case and replacing spaces with \"_\" :</strong></em>"
   ]
  },
  {
   "cell_type": "code",
   "execution_count": 7,
   "metadata": {},
   "outputs": [
    {
     "data": {
      "text/html": [
       "<div>\n",
       "<style scoped>\n",
       "    .dataframe tbody tr th:only-of-type {\n",
       "        vertical-align: middle;\n",
       "    }\n",
       "\n",
       "    .dataframe tbody tr th {\n",
       "        vertical-align: top;\n",
       "    }\n",
       "\n",
       "    .dataframe thead th {\n",
       "        text-align: right;\n",
       "    }\n",
       "</style>\n",
       "<table border=\"1\" class=\"dataframe\">\n",
       "  <thead>\n",
       "    <tr style=\"text-align: right;\">\n",
       "      <th></th>\n",
       "      <th>bankrupt?</th>\n",
       "      <th>roa(c)_before_interest_and_depreciation_before_interest</th>\n",
       "      <th>roa(a)_before_interest_and_%_after_tax</th>\n",
       "      <th>roa(b)_before_interest_and_depreciation_after_tax</th>\n",
       "      <th>operating_gross_margin</th>\n",
       "      <th>realized_sales_gross_margin</th>\n",
       "      <th>operating_profit_rate</th>\n",
       "      <th>pre-tax_net_interest_rate</th>\n",
       "      <th>after-tax_net_interest_rate</th>\n",
       "      <th>non-industry_income_and_expenditure/revenue</th>\n",
       "      <th>...</th>\n",
       "      <th>net_income_to_total_assets</th>\n",
       "      <th>total_assets_to_gnp_price</th>\n",
       "      <th>no-credit_interval</th>\n",
       "      <th>gross_profit_to_sales</th>\n",
       "      <th>net_income_to_stockholder's_equity</th>\n",
       "      <th>liability_to_equity</th>\n",
       "      <th>degree_of_financial_leverage_(dfl)</th>\n",
       "      <th>interest_coverage_ratio_(interest_expense_to_ebit)</th>\n",
       "      <th>net_income_flag</th>\n",
       "      <th>equity_to_liability</th>\n",
       "    </tr>\n",
       "  </thead>\n",
       "  <tbody>\n",
       "    <tr>\n",
       "      <th>0</th>\n",
       "      <td>1</td>\n",
       "      <td>0.370594</td>\n",
       "      <td>0.424389</td>\n",
       "      <td>0.405750</td>\n",
       "      <td>0.601457</td>\n",
       "      <td>0.601457</td>\n",
       "      <td>0.998969</td>\n",
       "      <td>0.796887</td>\n",
       "      <td>0.808809</td>\n",
       "      <td>0.302646</td>\n",
       "      <td>...</td>\n",
       "      <td>0.716845</td>\n",
       "      <td>0.009219</td>\n",
       "      <td>0.622879</td>\n",
       "      <td>0.601453</td>\n",
       "      <td>0.827890</td>\n",
       "      <td>0.290202</td>\n",
       "      <td>0.026601</td>\n",
       "      <td>0.564050</td>\n",
       "      <td>1</td>\n",
       "      <td>0.016469</td>\n",
       "    </tr>\n",
       "    <tr>\n",
       "      <th>1</th>\n",
       "      <td>1</td>\n",
       "      <td>0.464291</td>\n",
       "      <td>0.538214</td>\n",
       "      <td>0.516730</td>\n",
       "      <td>0.610235</td>\n",
       "      <td>0.610235</td>\n",
       "      <td>0.998946</td>\n",
       "      <td>0.797380</td>\n",
       "      <td>0.809301</td>\n",
       "      <td>0.303556</td>\n",
       "      <td>...</td>\n",
       "      <td>0.795297</td>\n",
       "      <td>0.008323</td>\n",
       "      <td>0.623652</td>\n",
       "      <td>0.610237</td>\n",
       "      <td>0.839969</td>\n",
       "      <td>0.283846</td>\n",
       "      <td>0.264577</td>\n",
       "      <td>0.570175</td>\n",
       "      <td>1</td>\n",
       "      <td>0.020794</td>\n",
       "    </tr>\n",
       "    <tr>\n",
       "      <th>2</th>\n",
       "      <td>1</td>\n",
       "      <td>0.426071</td>\n",
       "      <td>0.499019</td>\n",
       "      <td>0.472295</td>\n",
       "      <td>0.601450</td>\n",
       "      <td>0.601364</td>\n",
       "      <td>0.998857</td>\n",
       "      <td>0.796403</td>\n",
       "      <td>0.808388</td>\n",
       "      <td>0.302035</td>\n",
       "      <td>...</td>\n",
       "      <td>0.774670</td>\n",
       "      <td>0.040003</td>\n",
       "      <td>0.623841</td>\n",
       "      <td>0.601449</td>\n",
       "      <td>0.836774</td>\n",
       "      <td>0.290189</td>\n",
       "      <td>0.026555</td>\n",
       "      <td>0.563706</td>\n",
       "      <td>1</td>\n",
       "      <td>0.016474</td>\n",
       "    </tr>\n",
       "    <tr>\n",
       "      <th>3</th>\n",
       "      <td>1</td>\n",
       "      <td>0.399844</td>\n",
       "      <td>0.451265</td>\n",
       "      <td>0.457733</td>\n",
       "      <td>0.583541</td>\n",
       "      <td>0.583541</td>\n",
       "      <td>0.998700</td>\n",
       "      <td>0.796967</td>\n",
       "      <td>0.808966</td>\n",
       "      <td>0.303350</td>\n",
       "      <td>...</td>\n",
       "      <td>0.739555</td>\n",
       "      <td>0.003252</td>\n",
       "      <td>0.622929</td>\n",
       "      <td>0.583538</td>\n",
       "      <td>0.834697</td>\n",
       "      <td>0.281721</td>\n",
       "      <td>0.026697</td>\n",
       "      <td>0.564663</td>\n",
       "      <td>1</td>\n",
       "      <td>0.023982</td>\n",
       "    </tr>\n",
       "    <tr>\n",
       "      <th>4</th>\n",
       "      <td>1</td>\n",
       "      <td>0.465022</td>\n",
       "      <td>0.538432</td>\n",
       "      <td>0.522298</td>\n",
       "      <td>0.598783</td>\n",
       "      <td>0.598783</td>\n",
       "      <td>0.998973</td>\n",
       "      <td>0.797366</td>\n",
       "      <td>0.809304</td>\n",
       "      <td>0.303475</td>\n",
       "      <td>...</td>\n",
       "      <td>0.795016</td>\n",
       "      <td>0.003878</td>\n",
       "      <td>0.623521</td>\n",
       "      <td>0.598782</td>\n",
       "      <td>0.839973</td>\n",
       "      <td>0.278514</td>\n",
       "      <td>0.024752</td>\n",
       "      <td>0.575617</td>\n",
       "      <td>1</td>\n",
       "      <td>0.035490</td>\n",
       "    </tr>\n",
       "    <tr>\n",
       "      <th>...</th>\n",
       "      <td>...</td>\n",
       "      <td>...</td>\n",
       "      <td>...</td>\n",
       "      <td>...</td>\n",
       "      <td>...</td>\n",
       "      <td>...</td>\n",
       "      <td>...</td>\n",
       "      <td>...</td>\n",
       "      <td>...</td>\n",
       "      <td>...</td>\n",
       "      <td>...</td>\n",
       "      <td>...</td>\n",
       "      <td>...</td>\n",
       "      <td>...</td>\n",
       "      <td>...</td>\n",
       "      <td>...</td>\n",
       "      <td>...</td>\n",
       "      <td>...</td>\n",
       "      <td>...</td>\n",
       "      <td>...</td>\n",
       "      <td>...</td>\n",
       "    </tr>\n",
       "    <tr>\n",
       "      <th>6814</th>\n",
       "      <td>0</td>\n",
       "      <td>0.493687</td>\n",
       "      <td>0.539468</td>\n",
       "      <td>0.543230</td>\n",
       "      <td>0.604455</td>\n",
       "      <td>0.604462</td>\n",
       "      <td>0.998992</td>\n",
       "      <td>0.797409</td>\n",
       "      <td>0.809331</td>\n",
       "      <td>0.303510</td>\n",
       "      <td>...</td>\n",
       "      <td>0.799927</td>\n",
       "      <td>0.000466</td>\n",
       "      <td>0.623620</td>\n",
       "      <td>0.604455</td>\n",
       "      <td>0.840359</td>\n",
       "      <td>0.279606</td>\n",
       "      <td>0.027064</td>\n",
       "      <td>0.566193</td>\n",
       "      <td>1</td>\n",
       "      <td>0.029890</td>\n",
       "    </tr>\n",
       "    <tr>\n",
       "      <th>6815</th>\n",
       "      <td>0</td>\n",
       "      <td>0.475162</td>\n",
       "      <td>0.538269</td>\n",
       "      <td>0.524172</td>\n",
       "      <td>0.598308</td>\n",
       "      <td>0.598308</td>\n",
       "      <td>0.998992</td>\n",
       "      <td>0.797414</td>\n",
       "      <td>0.809327</td>\n",
       "      <td>0.303520</td>\n",
       "      <td>...</td>\n",
       "      <td>0.799748</td>\n",
       "      <td>0.001959</td>\n",
       "      <td>0.623931</td>\n",
       "      <td>0.598306</td>\n",
       "      <td>0.840306</td>\n",
       "      <td>0.278132</td>\n",
       "      <td>0.027009</td>\n",
       "      <td>0.566018</td>\n",
       "      <td>1</td>\n",
       "      <td>0.038284</td>\n",
       "    </tr>\n",
       "    <tr>\n",
       "      <th>6816</th>\n",
       "      <td>0</td>\n",
       "      <td>0.472725</td>\n",
       "      <td>0.533744</td>\n",
       "      <td>0.520638</td>\n",
       "      <td>0.610444</td>\n",
       "      <td>0.610213</td>\n",
       "      <td>0.998984</td>\n",
       "      <td>0.797401</td>\n",
       "      <td>0.809317</td>\n",
       "      <td>0.303512</td>\n",
       "      <td>...</td>\n",
       "      <td>0.797778</td>\n",
       "      <td>0.002840</td>\n",
       "      <td>0.624156</td>\n",
       "      <td>0.610441</td>\n",
       "      <td>0.840138</td>\n",
       "      <td>0.275789</td>\n",
       "      <td>0.026791</td>\n",
       "      <td>0.565158</td>\n",
       "      <td>1</td>\n",
       "      <td>0.097649</td>\n",
       "    </tr>\n",
       "    <tr>\n",
       "      <th>6817</th>\n",
       "      <td>0</td>\n",
       "      <td>0.506264</td>\n",
       "      <td>0.559911</td>\n",
       "      <td>0.554045</td>\n",
       "      <td>0.607850</td>\n",
       "      <td>0.607850</td>\n",
       "      <td>0.999074</td>\n",
       "      <td>0.797500</td>\n",
       "      <td>0.809399</td>\n",
       "      <td>0.303498</td>\n",
       "      <td>...</td>\n",
       "      <td>0.811808</td>\n",
       "      <td>0.002837</td>\n",
       "      <td>0.623957</td>\n",
       "      <td>0.607846</td>\n",
       "      <td>0.841084</td>\n",
       "      <td>0.277547</td>\n",
       "      <td>0.026822</td>\n",
       "      <td>0.565302</td>\n",
       "      <td>1</td>\n",
       "      <td>0.044009</td>\n",
       "    </tr>\n",
       "    <tr>\n",
       "      <th>6818</th>\n",
       "      <td>0</td>\n",
       "      <td>0.493053</td>\n",
       "      <td>0.570105</td>\n",
       "      <td>0.549548</td>\n",
       "      <td>0.627409</td>\n",
       "      <td>0.627409</td>\n",
       "      <td>0.998080</td>\n",
       "      <td>0.801987</td>\n",
       "      <td>0.813800</td>\n",
       "      <td>0.313415</td>\n",
       "      <td>...</td>\n",
       "      <td>0.815956</td>\n",
       "      <td>0.000707</td>\n",
       "      <td>0.626680</td>\n",
       "      <td>0.627408</td>\n",
       "      <td>0.841019</td>\n",
       "      <td>0.275114</td>\n",
       "      <td>0.026793</td>\n",
       "      <td>0.565167</td>\n",
       "      <td>1</td>\n",
       "      <td>0.233902</td>\n",
       "    </tr>\n",
       "  </tbody>\n",
       "</table>\n",
       "<p>6819 rows × 96 columns</p>\n",
       "</div>"
      ],
      "text/plain": [
       "      bankrupt?  roa(c)_before_interest_and_depreciation_before_interest  \\\n",
       "0             1                                           0.370594         \n",
       "1             1                                           0.464291         \n",
       "2             1                                           0.426071         \n",
       "3             1                                           0.399844         \n",
       "4             1                                           0.465022         \n",
       "...         ...                                                ...         \n",
       "6814          0                                           0.493687         \n",
       "6815          0                                           0.475162         \n",
       "6816          0                                           0.472725         \n",
       "6817          0                                           0.506264         \n",
       "6818          0                                           0.493053         \n",
       "\n",
       "      roa(a)_before_interest_and_%_after_tax  \\\n",
       "0                                   0.424389   \n",
       "1                                   0.538214   \n",
       "2                                   0.499019   \n",
       "3                                   0.451265   \n",
       "4                                   0.538432   \n",
       "...                                      ...   \n",
       "6814                                0.539468   \n",
       "6815                                0.538269   \n",
       "6816                                0.533744   \n",
       "6817                                0.559911   \n",
       "6818                                0.570105   \n",
       "\n",
       "      roa(b)_before_interest_and_depreciation_after_tax  \\\n",
       "0                                              0.405750   \n",
       "1                                              0.516730   \n",
       "2                                              0.472295   \n",
       "3                                              0.457733   \n",
       "4                                              0.522298   \n",
       "...                                                 ...   \n",
       "6814                                           0.543230   \n",
       "6815                                           0.524172   \n",
       "6816                                           0.520638   \n",
       "6817                                           0.554045   \n",
       "6818                                           0.549548   \n",
       "\n",
       "      operating_gross_margin  realized_sales_gross_margin  \\\n",
       "0                   0.601457                     0.601457   \n",
       "1                   0.610235                     0.610235   \n",
       "2                   0.601450                     0.601364   \n",
       "3                   0.583541                     0.583541   \n",
       "4                   0.598783                     0.598783   \n",
       "...                      ...                          ...   \n",
       "6814                0.604455                     0.604462   \n",
       "6815                0.598308                     0.598308   \n",
       "6816                0.610444                     0.610213   \n",
       "6817                0.607850                     0.607850   \n",
       "6818                0.627409                     0.627409   \n",
       "\n",
       "      operating_profit_rate  pre-tax_net_interest_rate  \\\n",
       "0                  0.998969                   0.796887   \n",
       "1                  0.998946                   0.797380   \n",
       "2                  0.998857                   0.796403   \n",
       "3                  0.998700                   0.796967   \n",
       "4                  0.998973                   0.797366   \n",
       "...                     ...                        ...   \n",
       "6814               0.998992                   0.797409   \n",
       "6815               0.998992                   0.797414   \n",
       "6816               0.998984                   0.797401   \n",
       "6817               0.999074                   0.797500   \n",
       "6818               0.998080                   0.801987   \n",
       "\n",
       "      after-tax_net_interest_rate  \\\n",
       "0                        0.808809   \n",
       "1                        0.809301   \n",
       "2                        0.808388   \n",
       "3                        0.808966   \n",
       "4                        0.809304   \n",
       "...                           ...   \n",
       "6814                     0.809331   \n",
       "6815                     0.809327   \n",
       "6816                     0.809317   \n",
       "6817                     0.809399   \n",
       "6818                     0.813800   \n",
       "\n",
       "      non-industry_income_and_expenditure/revenue  ...  \\\n",
       "0                                        0.302646  ...   \n",
       "1                                        0.303556  ...   \n",
       "2                                        0.302035  ...   \n",
       "3                                        0.303350  ...   \n",
       "4                                        0.303475  ...   \n",
       "...                                           ...  ...   \n",
       "6814                                     0.303510  ...   \n",
       "6815                                     0.303520  ...   \n",
       "6816                                     0.303512  ...   \n",
       "6817                                     0.303498  ...   \n",
       "6818                                     0.313415  ...   \n",
       "\n",
       "      net_income_to_total_assets  total_assets_to_gnp_price  \\\n",
       "0                       0.716845                   0.009219   \n",
       "1                       0.795297                   0.008323   \n",
       "2                       0.774670                   0.040003   \n",
       "3                       0.739555                   0.003252   \n",
       "4                       0.795016                   0.003878   \n",
       "...                          ...                        ...   \n",
       "6814                    0.799927                   0.000466   \n",
       "6815                    0.799748                   0.001959   \n",
       "6816                    0.797778                   0.002840   \n",
       "6817                    0.811808                   0.002837   \n",
       "6818                    0.815956                   0.000707   \n",
       "\n",
       "      no-credit_interval  gross_profit_to_sales  \\\n",
       "0               0.622879               0.601453   \n",
       "1               0.623652               0.610237   \n",
       "2               0.623841               0.601449   \n",
       "3               0.622929               0.583538   \n",
       "4               0.623521               0.598782   \n",
       "...                  ...                    ...   \n",
       "6814            0.623620               0.604455   \n",
       "6815            0.623931               0.598306   \n",
       "6816            0.624156               0.610441   \n",
       "6817            0.623957               0.607846   \n",
       "6818            0.626680               0.627408   \n",
       "\n",
       "      net_income_to_stockholder's_equity  liability_to_equity  \\\n",
       "0                               0.827890             0.290202   \n",
       "1                               0.839969             0.283846   \n",
       "2                               0.836774             0.290189   \n",
       "3                               0.834697             0.281721   \n",
       "4                               0.839973             0.278514   \n",
       "...                                  ...                  ...   \n",
       "6814                            0.840359             0.279606   \n",
       "6815                            0.840306             0.278132   \n",
       "6816                            0.840138             0.275789   \n",
       "6817                            0.841084             0.277547   \n",
       "6818                            0.841019             0.275114   \n",
       "\n",
       "      degree_of_financial_leverage_(dfl)  \\\n",
       "0                               0.026601   \n",
       "1                               0.264577   \n",
       "2                               0.026555   \n",
       "3                               0.026697   \n",
       "4                               0.024752   \n",
       "...                                  ...   \n",
       "6814                            0.027064   \n",
       "6815                            0.027009   \n",
       "6816                            0.026791   \n",
       "6817                            0.026822   \n",
       "6818                            0.026793   \n",
       "\n",
       "      interest_coverage_ratio_(interest_expense_to_ebit)  net_income_flag  \\\n",
       "0                                              0.564050                 1   \n",
       "1                                              0.570175                 1   \n",
       "2                                              0.563706                 1   \n",
       "3                                              0.564663                 1   \n",
       "4                                              0.575617                 1   \n",
       "...                                                 ...               ...   \n",
       "6814                                           0.566193                 1   \n",
       "6815                                           0.566018                 1   \n",
       "6816                                           0.565158                 1   \n",
       "6817                                           0.565302                 1   \n",
       "6818                                           0.565167                 1   \n",
       "\n",
       "      equity_to_liability  \n",
       "0                0.016469  \n",
       "1                0.020794  \n",
       "2                0.016474  \n",
       "3                0.023982  \n",
       "4                0.035490  \n",
       "...                   ...  \n",
       "6814             0.029890  \n",
       "6815             0.038284  \n",
       "6816             0.097649  \n",
       "6817             0.044009  \n",
       "6818             0.233902  \n",
       "\n",
       "[6819 rows x 96 columns]"
      ]
     },
     "execution_count": 7,
     "metadata": {},
     "output_type": "execute_result"
    }
   ],
   "source": [
    "def fix_col_names(df):\n",
    "    df.columns = df.columns.str.strip().str.lower().str.replace(r'\\s+','_',regex=True)\n",
    "    return df\n",
    "\n",
    "fix_col_names(df)"
   ]
  },
  {
   "cell_type": "markdown",
   "metadata": {},
   "source": [
    "### <font color='MediumBlue'>2 - <ins> Identifying variables and their specifications</ins>: <font color='violet'></font>"
   ]
  },
  {
   "cell_type": "markdown",
   "metadata": {},
   "source": [
    "<ins><strong>Displaying number of unique values for each column : </strong></ins>"
   ]
  },
  {
   "cell_type": "code",
   "execution_count": 8,
   "metadata": {},
   "outputs": [
    {
     "data": {
      "text/plain": [
       "bankrupt?                                                     2\n",
       "roa(c)_before_interest_and_depreciation_before_interest    3333\n",
       "roa(a)_before_interest_and_%_after_tax                     3151\n",
       "roa(b)_before_interest_and_depreciation_after_tax          3160\n",
       "operating_gross_margin                                     3781\n",
       "                                                           ... \n",
       "liability_to_equity                                        6819\n",
       "degree_of_financial_leverage_(dfl)                         6240\n",
       "interest_coverage_ratio_(interest_expense_to_ebit)         6240\n",
       "net_income_flag                                               1\n",
       "equity_to_liability                                        6819\n",
       "Length: 96, dtype: int64"
      ]
     },
     "execution_count": 8,
     "metadata": {},
     "output_type": "execute_result"
    }
   ],
   "source": [
    "df.nunique()"
   ]
  },
  {
   "cell_type": "markdown",
   "metadata": {},
   "source": [
    "<ins><strong>Displaying number of unique values for each column that has less than 10 distinct values : </strong></ins>"
   ]
  },
  {
   "cell_type": "code",
   "execution_count": 9,
   "metadata": {},
   "outputs": [
    {
     "data": {
      "text/plain": [
       "bankrupt?                2\n",
       "liability-assets_flag    2\n",
       "net_income_flag          1\n",
       "dtype: int64"
      ]
     },
     "execution_count": 9,
     "metadata": {},
     "output_type": "execute_result"
    }
   ],
   "source": [
    "df.nunique()[lambda x: x <= 10]"
   ]
  },
  {
   "cell_type": "code",
   "execution_count": null,
   "metadata": {},
   "outputs": [],
   "source": [
    "df.info()"
   ]
  },
  {
   "cell_type": "markdown",
   "metadata": {},
   "source": [
    "<strong><font color='BlueViolet'>Numerical</font></strong> **variables specifications**:\n",
    "\n",
    "- **XXX**: <ins><em><font color='DarkMagenta'>Discrete</font></em></ins>.\n",
    "- **YYY**: <ins><em><font color='DarkMagenta'>Discrete</font></em></ins>.\n",
    "- **ZZZ**: <ins><em><font color='DarkMagenta'>Continuous</font></em></ins>. (Should be Discrete )\n",
    "- **WWW**: <ins><em><font color='DarkMagenta'>Continuous</font></em></ins>. (Should be Discrete or categorical )\n"
   ]
  },
  {
   "cell_type": "code",
   "execution_count": 4,
   "metadata": {},
   "outputs": [],
   "source": [
    "num_var = ['XXX',\n",
    "           'YYY',\n",
    "           'ZZZ'\n",
    "         ]"
   ]
  },
  {
   "cell_type": "markdown",
   "metadata": {},
   "source": [
    "<strong><font color='BlueViolet'>Categorical</font></strong> **variables specification**:\n",
    "\n",
    "\n",
    "- **AAA**: <ins><em><font color='DarkMagenta'>Nominal</font></em></ins>.\n",
    "- **BBB**: <ins><em><font color='DarkMagenta'>Nominal</font></em></ins>. \n",
    "- **CCC**: <ins><em><font color='DarkMagenta'>Ordinal</font></em></ins>. \n",
    "- **DDD**: <ins><em><font color='DarkMagenta'>Ordinal</font></em></ins>.(It's actually a date)"
   ]
  },
  {
   "cell_type": "code",
   "execution_count": 5,
   "metadata": {},
   "outputs": [],
   "source": [
    "cat_var = ['AAA',\n",
    "           'BBB',\n",
    "           'CCC',\n",
    "           'DDD'\n",
    "         ]"
   ]
  },
  {
   "cell_type": "markdown",
   "metadata": {},
   "source": [
    "### <font color='MediumBlue'>3 - <ins> Formatting & Cleaning data</ins>: <font color='violet'></font>"
   ]
  },
  {
   "cell_type": "markdown",
   "metadata": {},
   "source": [
    "<ins><strong>Dealing with columns with Null values : </strong></ins>"
   ]
  },
  {
   "cell_type": "code",
   "execution_count": 14,
   "metadata": {},
   "outputs": [
    {
     "name": "stdout",
     "output_type": "stream",
     "text": [
      "\n"
     ]
    }
   ],
   "source": [
    "print(*list(df.isna().any()[lambda x: x == True].index),sep=\"\\n\")"
   ]
  },
  {
   "cell_type": "code",
   "execution_count": 17,
   "metadata": {},
   "outputs": [
    {
     "data": {
      "text/plain": [
       "Bankrupt?                                                   0\n",
       " ROA(C) before interest and depreciation before interest    0\n",
       " ROA(A) before interest and % after tax                     0\n",
       " ROA(B) before interest and depreciation after tax          0\n",
       " Operating Gross Margin                                     0\n",
       "                                                           ..\n",
       " Liability to Equity                                        0\n",
       " Degree of Financial Leverage (DFL)                         0\n",
       " Interest Coverage Ratio (Interest expense to EBIT)         0\n",
       " Net Income Flag                                            0\n",
       " Equity to Liability                                        0\n",
       "Length: 96, dtype: int64"
      ]
     },
     "execution_count": 17,
     "metadata": {},
     "output_type": "execute_result"
    }
   ],
   "source": [
    "df.isna().sum()"
   ]
  },
  {
   "cell_type": "code",
   "execution_count": 15,
   "metadata": {},
   "outputs": [
    {
     "data": {
      "text/plain": [
       "[]"
      ]
     },
     "execution_count": 15,
     "metadata": {},
     "output_type": "execute_result"
    }
   ],
   "source": [
    "df.isna().any()[lambda x: x == True].index.tolist()"
   ]
  },
  {
   "cell_type": "markdown",
   "metadata": {},
   "source": [
    "<ins><strong>Columns to remove : </strong></ins>"
   ]
  },
  {
   "cell_type": "code",
   "execution_count": null,
   "metadata": {},
   "outputs": [],
   "source": [
    "col_to_remove = ['net_income_flag']"
   ]
  },
  {
   "cell_type": "markdown",
   "metadata": {},
   "source": [
    "<ins><strong>Cleaning invalid Values : </strong></ins>"
   ]
  },
  {
   "cell_type": "code",
   "execution_count": 15,
   "metadata": {},
   "outputs": [],
   "source": [
    "# replacing \"A\" by \"B\" in 'xxx'\n",
    "df['xxx'] = df['xxx'].str.replace('A','B')"
   ]
  },
  {
   "cell_type": "markdown",
   "metadata": {},
   "source": [
    "<ins><strong>Setting values to upper case: </strong></ins>"
   ]
  },
  {
   "cell_type": "code",
   "execution_count": null,
   "metadata": {},
   "outputs": [],
   "source": [
    "df['xxx'] = df['xxx'].str.upper()"
   ]
  },
  {
   "cell_type": "code",
   "execution_count": null,
   "metadata": {},
   "outputs": [],
   "source": []
  }
 ],
 "metadata": {
  "kernelspec": {
   "display_name": "Python 3 (ipykernel)",
   "language": "python",
   "name": "python3"
  },
  "language_info": {
   "codemirror_mode": {
    "name": "ipython",
    "version": 3
   },
   "file_extension": ".py",
   "mimetype": "text/x-python",
   "name": "python",
   "nbconvert_exporter": "python",
   "pygments_lexer": "ipython3",
   "version": "3.8.18"
  }
 },
 "nbformat": 4,
 "nbformat_minor": 4
}
